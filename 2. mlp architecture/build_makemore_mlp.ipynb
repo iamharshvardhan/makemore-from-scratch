{
 "cells": [
  {
   "cell_type": "markdown",
   "metadata": {
    "id": "N2PUspNarbNx"
   },
   "source": [
    "## Makemore with an MLP architecture\n",
    "\n",
    "* This part of makemore deals with the an MLP architecture to predict the next character in a sequence of letters.\n",
    "\n",
    "* The training data here remains the same (`data/names.txt`).\n",
    "\n",
    "* We implement the model from this research paper : [A Neural Probabilistic Language Model](https://www.jmlr.org/papers/volume3/bengio03a/bengio03a.pdf).\n",
    "\n",
    "* This paper deals with a vocabulary of 17000 words to predict the next word in a sentence.\n",
    "\n",
    "* The architecture of the ML model introduced/used here looks something like this :\n",
    "\n",
    "> <img src=\"https://production-media.paperswithcode.com/methods/Screen_Shot_2020-05-26_at_2.17.37_PM.png\" alt=output width=60%>\n",
    "\n",
    "* The researchers here have taken a block size 3, which means they have taken 3 words/logits/characters as input to predict the next word from it based of the vocabulary.\n",
    "\n",
    "* Also, there is a lookup table of say (17000x30) where each time a word is selected, the entire row of 30 words gets used a neuron in the neural network.\n"
   ]
  },
  {
   "cell_type": "code",
   "execution_count": 1,
   "metadata": {
    "executionInfo": {
     "elapsed": 4342,
     "status": "ok",
     "timestamp": 1705580922988,
     "user": {
      "displayName": "Harsh Vardhan Rana",
      "userId": "00416889182280809693"
     },
     "user_tz": -330
    },
    "id": "qn6XFY-ziLyJ"
   },
   "outputs": [],
   "source": [
    "import torch\n",
    "import torch.nn.functional as F\n",
    "import matplotlib.pyplot as plt\n",
    "%matplotlib inline"
   ]
  },
  {
   "cell_type": "code",
   "execution_count": 2,
   "metadata": {
    "colab": {
     "base_uri": "https://localhost:8080/"
    },
    "executionInfo": {
     "elapsed": 8,
     "status": "ok",
     "timestamp": 1705580922989,
     "user": {
      "displayName": "Harsh Vardhan Rana",
      "userId": "00416889182280809693"
     },
     "user_tz": -330
    },
    "id": "GMSWMbxoibZZ",
    "outputId": "a3ae3079-2f31-4c29-e642-18c788b4970c"
   },
   "outputs": [
    {
     "data": {
      "text/plain": [
       "['olivia', 'emma', 'ava', 'charlotte', 'sophia']"
      ]
     },
     "execution_count": 2,
     "metadata": {},
     "output_type": "execute_result"
    }
   ],
   "source": [
    "# read in all the words\n",
    "words = open('data/names.txt', 'r').read().lower().splitlines()\n",
    "words[:5]"
   ]
  },
  {
   "cell_type": "code",
   "execution_count": 3,
   "metadata": {
    "colab": {
     "base_uri": "https://localhost:8080/"
    },
    "executionInfo": {
     "elapsed": 7,
     "status": "ok",
     "timestamp": 1705580922989,
     "user": {
      "displayName": "Harsh Vardhan Rana",
      "userId": "00416889182280809693"
     },
     "user_tz": -330
    },
    "id": "edFUyjcCjAL8",
    "outputId": "cffc295c-a6bd-4cdb-9754-3d5e4409214d"
   },
   "outputs": [
    {
     "data": {
      "text/plain": [
       "31517"
      ]
     },
     "execution_count": 3,
     "metadata": {},
     "output_type": "execute_result"
    }
   ],
   "source": [
    "len(words)"
   ]
  },
  {
   "cell_type": "code",
   "execution_count": 4,
   "metadata": {
    "executionInfo": {
     "elapsed": 6,
     "status": "ok",
     "timestamp": 1705580922990,
     "user": {
      "displayName": "Harsh Vardhan Rana",
      "userId": "00416889182280809693"
     },
     "user_tz": -330
    },
    "id": "u7x0R0qwjcO9"
   },
   "outputs": [],
   "source": [
    "# build the vocabulary of character and mapping to/from integers\n",
    "chars = sorted(list(set(''.join(words))))\n",
    "stoi = {s:i+1 for i,s in enumerate(chars)}\n",
    "stoi['.'] = 0\n",
    "itos = {i:s for s,i in stoi.items()}"
   ]
  },
  {
   "cell_type": "code",
   "execution_count": 5,
   "metadata": {
    "colab": {
     "base_uri": "https://localhost:8080/"
    },
    "executionInfo": {
     "elapsed": 6,
     "status": "ok",
     "timestamp": 1705580922990,
     "user": {
      "displayName": "Harsh Vardhan Rana",
      "userId": "00416889182280809693"
     },
     "user_tz": -330
    },
    "id": "kiPD4o8U9GOk",
    "outputId": "25653dd5-7b3a-4a97-91ca-7362744a2944"
   },
   "outputs": [
    {
     "name": "stdout",
     "output_type": "stream",
     "text": [
      "{1: 'a', 2: 'b', 3: 'c', 4: 'd', 5: 'e', 6: 'f', 7: 'g', 8: 'h', 9: 'i', 10: 'j', 11: 'k', 12: 'l', 13: 'm', 14: 'n', 15: 'o', 16: 'p', 17: 'q', 18: 'r', 19: 's', 20: 't', 21: 'u', 22: 'v', 23: 'w', 24: 'x', 25: 'y', 26: 'z', 0: '.'}\n"
     ]
    }
   ],
   "source": [
    "print(itos)"
   ]
  },
  {
   "cell_type": "code",
   "execution_count": 6,
   "metadata": {
    "executionInfo": {
     "elapsed": 761,
     "status": "ok",
     "timestamp": 1705580923747,
     "user": {
      "displayName": "Harsh Vardhan Rana",
      "userId": "00416889182280809693"
     },
     "user_tz": -330
    },
    "id": "gXXCYmobju6e"
   },
   "outputs": [],
   "source": [
    "# build the dataset\n",
    "\n",
    "block_size = 3  # context length: number of characters do we take to predict the next one\n",
    "X, Y = [], []\n",
    "for w in words:\n",
    "\n",
    "    # print(w)\n",
    "    context = [0] * block_size\n",
    "    for ch in w + '.':\n",
    "        ix = stoi[ch]\n",
    "        X.append(context)\n",
    "        Y.append(ix)\n",
    "        # print(''.join(itos[i] for i in context), '--->', itos[ix])\n",
    "        context = context[1:] + [ix]\n",
    "\n",
    "X = torch.tensor(X)\n",
    "Y = torch.tensor(Y)"
   ]
  },
  {
   "cell_type": "code",
   "execution_count": 7,
   "metadata": {
    "colab": {
     "base_uri": "https://localhost:8080/"
    },
    "executionInfo": {
     "elapsed": 8,
     "status": "ok",
     "timestamp": 1705580923748,
     "user": {
      "displayName": "Harsh Vardhan Rana",
      "userId": "00416889182280809693"
     },
     "user_tz": -330
    },
    "id": "vp2a64DaqKp4",
    "outputId": "ed680f12-7d9d-4462-eea2-10c4c0a737f6"
   },
   "outputs": [
    {
     "data": {
      "text/plain": [
       "(torch.Size([222835, 3]), torch.int64, torch.Size([222835]), torch.int64)"
      ]
     },
     "execution_count": 7,
     "metadata": {},
     "output_type": "execute_result"
    }
   ],
   "source": [
    "X.shape, X.dtype, Y.shape, Y.dtype"
   ]
  },
  {
   "cell_type": "code",
   "execution_count": 8,
   "metadata": {
    "colab": {
     "base_uri": "https://localhost:8080/"
    },
    "executionInfo": {
     "elapsed": 705,
     "status": "ok",
     "timestamp": 1705580924449,
     "user": {
      "displayName": "Harsh Vardhan Rana",
      "userId": "00416889182280809693"
     },
     "user_tz": -330
    },
    "id": "NowHkJVcaHl4",
    "outputId": "904752d9-abed-4a52-e925-b9c5ea2c6248"
   },
   "outputs": [
    {
     "name": "stdout",
     "output_type": "stream",
     "text": [
      "torch.Size([178139, 3]) torch.Size([178139])\n",
      "torch.Size([22333, 3]) torch.Size([22333])\n",
      "torch.Size([22363, 3]) torch.Size([22363])\n"
     ]
    }
   ],
   "source": [
    "def build_dataset(words):\n",
    "    block_size = 3  # context length: number of characters do we take to predict the next one\n",
    "    X, Y = [], []\n",
    "    for w in words:\n",
    "\n",
    "        # print(w)\n",
    "        context = [0] * block_size\n",
    "        for ch in w + '.':\n",
    "            ix = stoi[ch]\n",
    "            X.append(context)\n",
    "            Y.append(ix)\n",
    "            # print(''.join(itos[i] for i in context), '--->', itos[ix])\n",
    "            context = context[1:] + [ix]\n",
    "\n",
    "    X = torch.tensor(X)\n",
    "    Y = torch.tensor(Y)\n",
    "    print(X.shape, Y.shape)\n",
    "    return X, Y\n",
    "\n",
    "import random\n",
    "random.seed(42)\n",
    "random.shuffle(words)\n",
    "n1 = int(0.8*len(words))\n",
    "n2 = int(0.9*len(words))\n",
    "\n",
    "Xtr, Ytr = build_dataset(words[:n1])\n",
    "Xdev, Ydev = build_dataset(words[n1:n2])\n",
    "Xte, Yte = build_dataset(words[n2:])"
   ]
  },
  {
   "cell_type": "code",
   "execution_count": 9,
   "metadata": {
    "executionInfo": {
     "elapsed": 21,
     "status": "ok",
     "timestamp": 1705580924450,
     "user": {
      "displayName": "Harsh Vardhan Rana",
      "userId": "00416889182280809693"
     },
     "user_tz": -330
    },
    "id": "Wjud_V5trPCA"
   },
   "outputs": [],
   "source": [
    "C = torch.randn((27, 2))"
   ]
  },
  {
   "cell_type": "code",
   "execution_count": 10,
   "metadata": {
    "colab": {
     "base_uri": "https://localhost:8080/"
    },
    "executionInfo": {
     "elapsed": 20,
     "status": "ok",
     "timestamp": 1705580924450,
     "user": {
      "displayName": "Harsh Vardhan Rana",
      "userId": "00416889182280809693"
     },
     "user_tz": -330
    },
    "id": "LkSacKFl3GmN",
    "outputId": "35dbd5fd-c299-44fc-9476-e0b32a1ad15f"
   },
   "outputs": [
    {
     "data": {
      "text/plain": [
       "tensor([-0.2010, -2.1388])"
      ]
     },
     "execution_count": 10,
     "metadata": {},
     "output_type": "execute_result"
    }
   ],
   "source": [
    "C[5]"
   ]
  },
  {
   "cell_type": "code",
   "execution_count": 11,
   "metadata": {
    "colab": {
     "base_uri": "https://localhost:8080/"
    },
    "executionInfo": {
     "elapsed": 19,
     "status": "ok",
     "timestamp": 1705580924450,
     "user": {
      "displayName": "Harsh Vardhan Rana",
      "userId": "00416889182280809693"
     },
     "user_tz": -330
    },
    "id": "gNRQXxCq02kR",
    "outputId": "9f584a3b-23cb-4cad-dbf7-178ed1c2dda3"
   },
   "outputs": [
    {
     "data": {
      "text/plain": [
       "tensor([-0.2010, -2.1388])"
      ]
     },
     "execution_count": 11,
     "metadata": {},
     "output_type": "execute_result"
    }
   ],
   "source": [
    "F.one_hot(torch.tensor(5), num_classes=27).float() @ C"
   ]
  },
  {
   "cell_type": "code",
   "execution_count": 12,
   "metadata": {
    "colab": {
     "base_uri": "https://localhost:8080/"
    },
    "executionInfo": {
     "elapsed": 18,
     "status": "ok",
     "timestamp": 1705580924450,
     "user": {
      "displayName": "Harsh Vardhan Rana",
      "userId": "00416889182280809693"
     },
     "user_tz": -330
    },
    "id": "2-KNesWw3Xf7",
    "outputId": "b4413369-6585-419c-f096-9cb76f43266e"
   },
   "outputs": [
    {
     "data": {
      "text/plain": [
       "torch.Size([222835, 3, 2])"
      ]
     },
     "execution_count": 12,
     "metadata": {},
     "output_type": "execute_result"
    }
   ],
   "source": [
    "emb = C[X]\n",
    "emb.shape"
   ]
  },
  {
   "cell_type": "code",
   "execution_count": 13,
   "metadata": {
    "executionInfo": {
     "elapsed": 17,
     "status": "ok",
     "timestamp": 1705580924450,
     "user": {
      "displayName": "Harsh Vardhan Rana",
      "userId": "00416889182280809693"
     },
     "user_tz": -330
    },
    "id": "YY_c5wXf4RQA"
   },
   "outputs": [],
   "source": [
    "W1 = torch.randn((6, 100))  # weights in layer one\n",
    "b1 = torch.randn(100)  # biases in layer one"
   ]
  },
  {
   "cell_type": "code",
   "execution_count": 14,
   "metadata": {
    "executionInfo": {
     "elapsed": 17,
     "status": "ok",
     "timestamp": 1705580924450,
     "user": {
      "displayName": "Harsh Vardhan Rana",
      "userId": "00416889182280809693"
     },
     "user_tz": -330
    },
    "id": "Q_q4agpSPnkZ"
   },
   "outputs": [],
   "source": [
    "h0 = emb.view(-1, 6) @ W1 + b1   # same as writing \"emb.view(emb.shape[0], 6) @ W1 + b1\"\n",
    "h = torch.tanh(h0)      # here, `tanh()` is used as an activation function of the nn"
   ]
  },
  {
   "cell_type": "code",
   "execution_count": 15,
   "metadata": {
    "colab": {
     "base_uri": "https://localhost:8080/"
    },
    "executionInfo": {
     "elapsed": 16,
     "status": "ok",
     "timestamp": 1705580924450,
     "user": {
      "displayName": "Harsh Vardhan Rana",
      "userId": "00416889182280809693"
     },
     "user_tz": -330
    },
    "id": "S4H16itEOv4u",
    "outputId": "27d8158a-d1b3-4ac7-ee1f-7bfbfa9ab392"
   },
   "outputs": [
    {
     "data": {
      "text/plain": [
       "tensor([[ 0.6202, -1.0000,  0.4273,  ...,  0.9591,  0.5040, -0.7299],\n",
       "        [-0.7706, -1.0000,  0.9794,  ...,  0.9035,  0.8865, -0.6042],\n",
       "        [ 0.6583, -1.0000,  0.8751,  ...,  0.9624,  0.7348, -0.8667],\n",
       "        ...,\n",
       "        [-0.1908, -0.9996,  0.9302,  ..., -0.8925,  0.9978,  0.3375],\n",
       "        [ 0.9862, -0.9993, -0.3872,  ..., -0.9955,  0.9926,  0.4719],\n",
       "        [-0.9986,  0.9951, -0.9234,  ..., -0.9761,  0.9999,  0.9999]])"
      ]
     },
     "execution_count": 15,
     "metadata": {},
     "output_type": "execute_result"
    }
   ],
   "source": [
    "h   # the values in the tensor are between [-1, 1] because of `tanh`"
   ]
  },
  {
   "cell_type": "code",
   "execution_count": 16,
   "metadata": {
    "colab": {
     "base_uri": "https://localhost:8080/"
    },
    "executionInfo": {
     "elapsed": 15,
     "status": "ok",
     "timestamp": 1705580924450,
     "user": {
      "displayName": "Harsh Vardhan Rana",
      "userId": "00416889182280809693"
     },
     "user_tz": -330
    },
    "id": "pTkclqskRTFW",
    "outputId": "21f5fd83-c268-459a-e5af-87f61a7559ee"
   },
   "outputs": [
    {
     "data": {
      "text/plain": [
       "torch.Size([222835, 100])"
      ]
     },
     "execution_count": 16,
     "metadata": {},
     "output_type": "execute_result"
    }
   ],
   "source": [
    "h.shape"
   ]
  },
  {
   "cell_type": "code",
   "execution_count": 17,
   "metadata": {
    "executionInfo": {
     "elapsed": 14,
     "status": "ok",
     "timestamp": 1705580924450,
     "user": {
      "displayName": "Harsh Vardhan Rana",
      "userId": "00416889182280809693"
     },
     "user_tz": -330
    },
    "id": "XlRj50A4SCHr"
   },
   "outputs": [],
   "source": [
    "W2 = torch.randn((100, 27))  # weights in layer two\n",
    "b2 = torch.randn(27)  # biases in layer two"
   ]
  },
  {
   "cell_type": "code",
   "execution_count": 18,
   "metadata": {
    "executionInfo": {
     "elapsed": 14,
     "status": "ok",
     "timestamp": 1705580924450,
     "user": {
      "displayName": "Harsh Vardhan Rana",
      "userId": "00416889182280809693"
     },
     "user_tz": -330
    },
    "id": "ZJTqIcX_T3QA"
   },
   "outputs": [],
   "source": [
    "logits = h @ W2 + b2"
   ]
  },
  {
   "cell_type": "code",
   "execution_count": 19,
   "metadata": {
    "colab": {
     "base_uri": "https://localhost:8080/"
    },
    "executionInfo": {
     "elapsed": 15,
     "status": "ok",
     "timestamp": 1705580924451,
     "user": {
      "displayName": "Harsh Vardhan Rana",
      "userId": "00416889182280809693"
     },
     "user_tz": -330
    },
    "id": "fs0GE8SptEvg",
    "outputId": "c043dca9-db12-4bcc-c4e7-c240f4c16c22"
   },
   "outputs": [
    {
     "data": {
      "text/plain": [
       "torch.Size([222835, 27])"
      ]
     },
     "execution_count": 19,
     "metadata": {},
     "output_type": "execute_result"
    }
   ],
   "source": [
    "logits.shape"
   ]
  },
  {
   "cell_type": "code",
   "execution_count": 20,
   "metadata": {
    "colab": {
     "base_uri": "https://localhost:8080/"
    },
    "executionInfo": {
     "elapsed": 13,
     "status": "ok",
     "timestamp": 1705580924451,
     "user": {
      "displayName": "Harsh Vardhan Rana",
      "userId": "00416889182280809693"
     },
     "user_tz": -330
    },
    "id": "hKMx76jGtX9H",
    "outputId": "598cc0bf-6712-404e-fd73-6c7bcba9079b"
   },
   "outputs": [
    {
     "data": {
      "text/plain": [
       "tensor([[-5.7569e+00, -7.3462e+00, -8.9410e+00, -2.4684e+00, -9.0138e+00,\n",
       "          4.0387e+00, -1.7912e+00,  1.1537e+01,  7.7723e+00, -9.7151e+00,\n",
       "          3.8811e+00,  1.1325e+01,  6.4384e+00, -1.4813e+01, -2.4147e+00,\n",
       "          4.4375e+00, -2.7984e+00,  8.6246e+00, -1.2003e+00,  4.3484e-01,\n",
       "         -8.1979e+00, -8.0790e+00, -1.1859e+00, -2.3078e+00, -1.5101e+00,\n",
       "          9.1982e-01,  5.0481e+00],\n",
       "        [-4.5918e+00, -4.9470e+00, -8.4196e+00, -1.1631e+01, -1.3639e+01,\n",
       "         -1.1840e+00, -4.9967e+00,  1.3036e+01,  8.4897e+00, -8.1761e+00,\n",
       "         -4.2533e-01,  2.6294e+00,  1.0958e+01, -7.4616e+00, -3.0339e+00,\n",
       "          8.2306e+00, -6.3891e+00,  5.9390e+00,  3.0212e+00,  9.2500e+00,\n",
       "          3.0549e-01, -1.4785e-01, -9.4422e-01, -1.2414e+00,  4.7346e+00,\n",
       "          7.5991e+00, -6.6661e-01],\n",
       "        [ 3.0695e+00, -1.7178e+00, -1.0244e+01, -1.4223e+01, -1.6143e+00,\n",
       "         -7.8009e+00, -1.9564e+01,  2.0248e+01,  1.6994e+01, -7.2460e+00,\n",
       "          1.9170e-01, -1.1487e+00,  4.4913e+00, -2.6613e+00, -3.0722e+00,\n",
       "          5.7225e+00, -4.8050e+00,  5.5283e+00, -6.8216e+00,  1.9569e+01,\n",
       "         -5.8201e+00, -5.0973e+00, -1.0139e+00,  3.6686e-03,  3.6621e+00,\n",
       "          7.6615e+00,  6.2355e+00],\n",
       "        [ 4.6310e-01, -1.3377e+00, -2.4112e+00, -1.3594e+01,  7.0512e+00,\n",
       "         -2.8952e+00, -1.1076e+01,  1.3203e+01,  1.3330e+01, -1.8264e+01,\n",
       "         -3.5424e+00,  3.0698e+00, -5.8585e+00, -5.3264e+00, -5.1409e+00,\n",
       "         -5.2540e+00, -6.5539e+00,  9.6691e+00, -3.4764e-01,  1.0226e+01,\n",
       "         -1.6202e+00, -3.8132e+00,  6.5129e+00,  1.6446e+00,  3.0061e+00,\n",
       "          5.9217e+00,  8.3752e+00],\n",
       "        [ 1.5277e+00,  3.8223e+00, -4.2125e+00, -5.4510e+00,  1.8532e+01,\n",
       "         -2.0943e+00, -1.5327e+01,  9.1827e+00,  5.2446e+00, -8.5340e+00,\n",
       "          2.5407e+00,  7.9009e+00, -9.5065e+00, -7.1442e+00, -8.8250e+00,\n",
       "         -2.3599e+00, -1.0071e+01,  4.2951e-01, -5.2332e+00,  8.6127e+00,\n",
       "         -9.3714e+00, -4.1909e+00,  2.7020e+00,  6.3534e+00,  5.3154e+00,\n",
       "         -1.0935e+00,  1.3152e+01]])"
      ]
     },
     "execution_count": 20,
     "metadata": {},
     "output_type": "execute_result"
    }
   ],
   "source": [
    "logits[:5]"
   ]
  },
  {
   "cell_type": "code",
   "execution_count": 21,
   "metadata": {
    "colab": {
     "base_uri": "https://localhost:8080/"
    },
    "executionInfo": {
     "elapsed": 12,
     "status": "ok",
     "timestamp": 1705580924451,
     "user": {
      "displayName": "Harsh Vardhan Rana",
      "userId": "00416889182280809693"
     },
     "user_tz": -330
    },
    "id": "mmKiTLfstY3M",
    "outputId": "34f1b69e-37d7-4e30-f6af-84e8044ec238"
   },
   "outputs": [
    {
     "data": {
      "text/plain": [
       "tensor([[3.1608e-03, 6.4506e-04, 1.3091e-04, 8.4717e-02, 1.2172e-04, 5.6755e+01,\n",
       "         1.6676e-01, 1.0241e+05, 2.3740e+03, 6.0365e-05, 4.8476e+01, 8.2832e+04,\n",
       "         6.2542e+02, 3.6892e-07, 8.9397e-02, 8.4561e+01, 6.0910e-02, 5.5667e+03,\n",
       "         3.0109e-01, 1.5447e+00, 2.7523e-04, 3.0998e-04, 3.0547e-01, 9.9475e-02,\n",
       "         2.2090e-01, 2.5088e+00, 1.5572e+02],\n",
       "        [1.0134e-02, 7.1045e-03, 2.2049e-04, 8.8832e-06, 1.1929e-06, 3.0606e-01,\n",
       "         6.7604e-03, 4.5868e+05, 4.8642e+03, 2.8130e-04, 6.5355e-01, 1.3865e+01,\n",
       "         5.7436e+04, 5.7471e-04, 4.8129e-02, 3.7542e+03, 1.6798e-03, 3.7955e+02,\n",
       "         2.0515e+01, 1.0405e+04, 1.3573e+00, 8.6256e-01, 3.8898e-01, 2.8899e-01,\n",
       "         1.1382e+02, 1.9964e+03, 5.1345e-01],\n",
       "        [2.1531e+01, 1.7945e-01, 3.5586e-05, 6.6503e-07, 1.9902e-01, 4.0935e-04,\n",
       "         3.1878e-09, 6.2183e+08, 2.3999e+07, 7.1301e-04, 1.2113e+00, 3.1704e-01,\n",
       "         8.9235e+01, 6.9857e-02, 4.6319e-02, 3.0566e+02, 8.1889e-03, 2.5170e+02,\n",
       "         1.0900e-03, 3.1525e+08, 2.9672e-03, 6.1133e-03, 3.6279e-01, 1.0037e+00,\n",
       "         3.8944e+01, 2.1248e+03, 5.1055e+02],\n",
       "        [1.5890e+00, 2.6246e-01, 8.9706e-02, 1.2476e-06, 1.1542e+03, 5.5286e-02,\n",
       "         1.5484e-05, 5.4215e+05, 6.1515e+05, 1.1699e-08, 2.8942e-02, 2.1537e+01,\n",
       "         2.8556e-03, 4.8618e-03, 5.8525e-03, 5.2264e-03, 1.4245e-03, 1.5821e+04,\n",
       "         7.0635e-01, 2.7601e+04, 1.9787e-01, 2.2077e-02, 6.7378e+02, 5.1788e+00,\n",
       "         2.0209e+01, 3.7304e+02, 4.3383e+03],\n",
       "        [4.6076e+00, 4.5709e+01, 1.4809e-02, 4.2921e-03, 1.1179e+08, 1.2315e-01,\n",
       "         2.2068e-07, 9.7273e+03, 1.8953e+02, 1.9667e-04, 1.2688e+01, 2.6996e+03,\n",
       "         7.4366e-05, 7.8947e-04, 1.4701e-04, 9.4427e-02, 4.2280e-05, 1.5365e+00,\n",
       "         5.3367e-03, 5.5012e+03, 8.5123e-05, 1.5133e-02, 1.4910e+01, 5.7445e+02,\n",
       "         2.0346e+02, 3.3503e-01, 5.1524e+05]])"
      ]
     },
     "execution_count": 21,
     "metadata": {},
     "output_type": "execute_result"
    }
   ],
   "source": [
    "counts = logits.exp()\n",
    "counts[:5]"
   ]
  },
  {
   "cell_type": "code",
   "execution_count": 22,
   "metadata": {
    "executionInfo": {
     "elapsed": 719,
     "status": "ok",
     "timestamp": 1705580944591,
     "user": {
      "displayName": "Harsh Vardhan Rana",
      "userId": "00416889182280809693"
     },
     "user_tz": -330
    },
    "id": "nnmRIJTJ3ttu"
   },
   "outputs": [],
   "source": [
    "prob = counts / counts.sum(1, keepdims=True)"
   ]
  },
  {
   "cell_type": "code",
   "execution_count": 23,
   "metadata": {
    "colab": {
     "base_uri": "https://localhost:8080/"
    },
    "executionInfo": {
     "elapsed": 408,
     "status": "ok",
     "timestamp": 1705580946434,
     "user": {
      "displayName": "Harsh Vardhan Rana",
      "userId": "00416889182280809693"
     },
     "user_tz": -330
    },
    "id": "S8XQVwQA4Frq",
    "outputId": "46416674-057e-4b3f-f2e3-59ee1b913895"
   },
   "outputs": [
    {
     "data": {
      "text/plain": [
       "(torch.Size([222835, 27]), tensor(1.))"
      ]
     },
     "execution_count": 23,
     "metadata": {},
     "output_type": "execute_result"
    }
   ],
   "source": [
    "prob.shape, prob[0].sum()"
   ]
  },
  {
   "cell_type": "code",
   "execution_count": 37,
   "metadata": {
    "colab": {
     "base_uri": "https://localhost:8080/",
     "height": 176
    },
    "executionInfo": {
     "elapsed": 547,
     "status": "error",
     "timestamp": 1705580924993,
     "user": {
      "displayName": "Harsh Vardhan Rana",
      "userId": "00416889182280809693"
     },
     "user_tz": -330
    },
    "id": "dtRmkiKo4Ix8",
    "outputId": "a8c7e350-9335-475a-ac74-7089aa33e8a1"
   },
   "outputs": [
    {
     "ename": "IndexError",
     "evalue": "shape mismatch: indexing tensors could not be broadcast together with shapes [33], [222835]",
     "output_type": "error",
     "traceback": [
      "\u001b[1;31m---------------------------------------------------------------------------\u001b[0m",
      "\u001b[1;31mIndexError\u001b[0m                                Traceback (most recent call last)",
      "Cell \u001b[1;32mIn[37], line 1\u001b[0m\n\u001b[1;32m----> 1\u001b[0m \u001b[43mprob\u001b[49m\u001b[43m[\u001b[49m\u001b[43mtorch\u001b[49m\u001b[38;5;241;43m.\u001b[39;49m\u001b[43marange\u001b[49m\u001b[43m(\u001b[49m\u001b[38;5;241;43m33\u001b[39;49m\u001b[43m)\u001b[49m\u001b[43m,\u001b[49m\u001b[43m \u001b[49m\u001b[43mY\u001b[49m\u001b[43m]\u001b[49m\n",
      "\u001b[1;31mIndexError\u001b[0m: shape mismatch: indexing tensors could not be broadcast together with shapes [33], [222835]"
     ]
    }
   ],
   "source": [
    "prob[torch.arange(33), Y]"
   ]
  },
  {
   "cell_type": "markdown",
   "metadata": {
    "id": "IQjDZv9y5ECl"
   },
   "source": [
    "### Making everything Respectable and Reproducible"
   ]
  },
  {
   "cell_type": "code",
   "execution_count": 25,
   "metadata": {
    "colab": {
     "base_uri": "https://localhost:8080/"
    },
    "executionInfo": {
     "elapsed": 845,
     "status": "ok",
     "timestamp": 1705580950827,
     "user": {
      "displayName": "Harsh Vardhan Rana",
      "userId": "00416889182280809693"
     },
     "user_tz": -330
    },
    "id": "hGULGTUieN3P",
    "outputId": "e0ad03b8-91fd-47bd-e1ea-0d6ea30ba1ff"
   },
   "outputs": [
    {
     "data": {
      "text/plain": [
       "(torch.Size([178139, 3]), torch.Size([178139]))"
      ]
     },
     "execution_count": 25,
     "metadata": {},
     "output_type": "execute_result"
    }
   ],
   "source": [
    "Xtr.shape, Ytr.shape"
   ]
  },
  {
   "cell_type": "code",
   "execution_count": 26,
   "metadata": {
    "executionInfo": {
     "elapsed": 662,
     "status": "ok",
     "timestamp": 1705587462630,
     "user": {
      "displayName": "Harsh Vardhan Rana",
      "userId": "00416889182280809693"
     },
     "user_tz": -330
    },
    "id": "pT-oiiHu4jHn"
   },
   "outputs": [],
   "source": [
    "g = torch.Generator().manual_seed(2147483647)\n",
    "C = torch.randn((27, 10), generator=g)\n",
    "W1 = torch.randn((30, 200), generator=g)\n",
    "b1 = torch.randn(200, generator=g)\n",
    "W2 = torch.randn((200, 27), generator=g)\n",
    "b2 = torch.randn(27, generator=g)\n",
    "parameters = [C, W1, b1, W2, b2]"
   ]
  },
  {
   "cell_type": "code",
   "execution_count": 27,
   "metadata": {
    "colab": {
     "base_uri": "https://localhost:8080/"
    },
    "executionInfo": {
     "elapsed": 3,
     "status": "ok",
     "timestamp": 1705587463318,
     "user": {
      "displayName": "Harsh Vardhan Rana",
      "userId": "00416889182280809693"
     },
     "user_tz": -330
    },
    "id": "q709ksJq5-Yo",
    "outputId": "9f116794-3266-42aa-b8cf-00e3d33ac6a4"
   },
   "outputs": [
    {
     "data": {
      "text/plain": [
       "11897"
      ]
     },
     "execution_count": 27,
     "metadata": {},
     "output_type": "execute_result"
    }
   ],
   "source": [
    "sum(p.nelement()for p in parameters)"
   ]
  },
  {
   "cell_type": "code",
   "execution_count": 28,
   "metadata": {
    "executionInfo": {
     "elapsed": 3,
     "status": "ok",
     "timestamp": 1705587463319,
     "user": {
      "displayName": "Harsh Vardhan Rana",
      "userId": "00416889182280809693"
     },
     "user_tz": -330
    },
    "id": "Xbur4GpJF4ik"
   },
   "outputs": [],
   "source": [
    "for p in parameters:\n",
    "    p.requires_grad = True"
   ]
  },
  {
   "cell_type": "code",
   "execution_count": 29,
   "metadata": {
    "executionInfo": {
     "elapsed": 3,
     "status": "ok",
     "timestamp": 1705587463319,
     "user": {
      "displayName": "Harsh Vardhan Rana",
      "userId": "00416889182280809693"
     },
     "user_tz": -330
    },
    "id": "_9nvHjQvU2fx"
   },
   "outputs": [],
   "source": [
    "lre = torch.linspace(-3, 0, 1000)\n",
    "lrs = 10**lre"
   ]
  },
  {
   "cell_type": "code",
   "execution_count": 30,
   "metadata": {
    "executionInfo": {
     "elapsed": 3,
     "status": "ok",
     "timestamp": 1705587463319,
     "user": {
      "displayName": "Harsh Vardhan Rana",
      "userId": "00416889182280809693"
     },
     "user_tz": -330
    },
    "id": "CuAV34tmW3Wk"
   },
   "outputs": [],
   "source": [
    "lri = []\n",
    "lossi = []\n",
    "stepi = []"
   ]
  },
  {
   "cell_type": "code",
   "execution_count": 31,
   "metadata": {
    "executionInfo": {
     "elapsed": 86838,
     "status": "ok",
     "timestamp": 1705587550776,
     "user": {
      "displayName": "Harsh Vardhan Rana",
      "userId": "00416889182280809693"
     },
     "user_tz": -330
    },
    "id": "fNSCbDru6H2i"
   },
   "outputs": [],
   "source": [
    "for i in range(200000):\n",
    "\n",
    "    # minibatch construct\n",
    "    ix = torch.randint(0, Xtr.shape[0], (32,))\n",
    "\n",
    "    # forward pass\n",
    "    emb = C[X[ix]]\n",
    "    h = torch.tanh(emb.view(-1, 30) @ W1 + b1)\n",
    "    logits = h @ W2 + b2\n",
    "\n",
    "    # counts = logits.exp()\n",
    "    # prob = counts / counts.sum(1, keepdims=True)\n",
    "    # loss = -prob[torch.arange(33), Y].log().mean()\n",
    "\n",
    "    loss = F.cross_entropy(logits, Ytr[ix])   # same result as the 3 lines above\n",
    "    # print(loss.item())\n",
    "\n",
    "    # backward pass\n",
    "    for p in parameters:\n",
    "        p.grad = None\n",
    "    loss.backward()\n",
    "\n",
    "    # update parameter\n",
    "    # lr = lrs[i]\n",
    "    lr = 0.1 if i < 100000 else 0.01\n",
    "    for p in parameters:\n",
    "        p.data += -lr * p.grad\n",
    "\n",
    "    # track paths\n",
    "    # lri.append(lre[i])\n",
    "    lossi.append(loss.log10().item())\n",
    "    stepi.append(i)\n",
    "\n",
    "# print(loss.item())"
   ]
  },
  {
   "cell_type": "code",
   "execution_count": 32,
   "metadata": {
    "colab": {
     "base_uri": "https://localhost:8080/",
     "height": 447
    },
    "executionInfo": {
     "elapsed": 40,
     "status": "ok",
     "timestamp": 1705587550777,
     "user": {
      "displayName": "Harsh Vardhan Rana",
      "userId": "00416889182280809693"
     },
     "user_tz": -330
    },
    "id": "bV4Ysv6hNiTX",
    "outputId": "fe0e17bb-05be-4bd2-bf73-7f688a6b7d2e"
   },
   "outputs": [
    {
     "data": {
      "text/plain": [
       "[<matplotlib.lines.Line2D at 0x25f4648bd90>]"
      ]
     },
     "execution_count": 32,
     "metadata": {},
     "output_type": "execute_result"
    },
    {
     "data": {
      "image/png": "[encoded data removed]",
      "text/plain": [
       "<Figure size 640x480 with 1 Axes>"
      ]
     },
     "metadata": {},
     "output_type": "display_data"
    }
   ],
   "source": [
    "plt.plot(stepi, lossi)"
   ]
  },
  {
   "cell_type": "code",
   "execution_count": 33,
   "metadata": {
    "colab": {
     "base_uri": "https://localhost:8080/"
    },
    "executionInfo": {
     "elapsed": 664,
     "status": "ok",
     "timestamp": 1705587551435,
     "user": {
      "displayName": "Harsh Vardhan Rana",
      "userId": "00416889182280809693"
     },
     "user_tz": -330
    },
    "id": "41EwoYWgfiU9",
    "outputId": "08c5d93e-d2fb-414b-8143-ae169ed243df"
   },
   "outputs": [
    {
     "data": {
      "text/plain": [
       "tensor(2.8360, grad_fn=<NllLossBackward0>)"
      ]
     },
     "execution_count": 33,
     "metadata": {},
     "output_type": "execute_result"
    }
   ],
   "source": [
    "emb = C[Xtr]\n",
    "h = torch.tanh(emb.view(-1, 30) @ W1 + b1)\n",
    "logits = h @ W2 + b2\n",
    "loss = F.cross_entropy(logits, Ytr)\n",
    "loss"
   ]
  },
  {
   "cell_type": "code",
   "execution_count": 34,
   "metadata": {
    "colab": {
     "base_uri": "https://localhost:8080/"
    },
    "executionInfo": {
     "elapsed": 7,
     "status": "ok",
     "timestamp": 1705587551436,
     "user": {
      "displayName": "Harsh Vardhan Rana",
      "userId": "00416889182280809693"
     },
     "user_tz": -330
    },
    "id": "xqqTcYgjPc8F",
    "outputId": "e081285a-0a31-472c-d780-fc454501f8a5"
   },
   "outputs": [
    {
     "data": {
      "text/plain": [
       "tensor(2.8446, grad_fn=<NllLossBackward0>)"
      ]
     },
     "execution_count": 34,
     "metadata": {},
     "output_type": "execute_result"
    }
   ],
   "source": [
    "emb = C[Xdev]\n",
    "h = torch.tanh(emb.view(-1, 30) @ W1 + b1)\n",
    "logits = h @ W2 + b2\n",
    "loss = F.cross_entropy(logits, Ydev)\n",
    "loss"
   ]
  },
  {
   "cell_type": "code",
   "execution_count": 35,
   "metadata": {
    "colab": {
     "base_uri": "https://localhost:8080/",
     "height": 446
    },
    "executionInfo": {
     "elapsed": 555,
     "status": "ok",
     "timestamp": 1705587551987,
     "user": {
      "displayName": "Harsh Vardhan Rana",
      "userId": "00416889182280809693"
     },
     "user_tz": -330
    },
    "id": "pVnupqTgS-3p",
    "outputId": "e7e16382-6381-4794-bcf7-4dfe08b3a396"
   },
   "outputs": [
    {
     "data": {
      "image/png": "[encoded data removed]",
      "text/plain": [
       "<Figure size 500x500 with 1 Axes>"
      ]
     },
     "metadata": {},
     "output_type": "display_data"
    }
   ],
   "source": [
    "# visualize dimensions 0 and 1 of the embedding matrix C for all characters\n",
    "plt.figure(figsize=(5, 5))\n",
    "plt.scatter(C[:,0].data, C[:,1].data, s=200)\n",
    "for i in range(C.shape[0]):\n",
    "    plt.text(C[i,0].item(), C[i,1].item(), itos[i], ha=\"center\", va=\"center\", color='white')\n",
    "plt.grid('minor')"
   ]
  },
  {
   "cell_type": "code",
   "execution_count": 36,
   "metadata": {
    "colab": {
     "base_uri": "https://localhost:8080/"
    },
    "executionInfo": {
     "elapsed": 10,
     "status": "ok",
     "timestamp": 1705587551988,
     "user": {
      "displayName": "Harsh Vardhan Rana",
      "userId": "00416889182280809693"
     },
     "user_tz": -330
    },
    "id": "dLV_EnS8NRDC",
    "outputId": "948c8936-0964-4ffa-9316-650c1aa75a8d"
   },
   "outputs": [
    {
     "name": "stdout",
     "output_type": "stream",
     "text": [
      "eriaaimyaylseelmnd.\n",
      "ryal.\n",
      ".\n",
      "ethrsjekdrleg.\n",
      "azeeedieliihemy.\n",
      "oealekeineananarneayzimhlkea.\n",
      "n.\n",
      "sadbnrglhimies.\n",
      ".\n",
      "n.\n",
      "jr.\n",
      "tllklxnteuoaou.\n",
      "amned.\n",
      "r.\n",
      "ylruemehs.\n",
      "laa.\n",
      "hysknyaa.\n",
      "hya.\n",
      "aalyaisun.\n",
      "zajelveuren.\n"
     ]
    }
   ],
   "source": [
    "# sample from the model\n",
    "g = torch.Generator().manual_seed(2147483647 + 10)\n",
    "\n",
    "for _ in range(20):\n",
    "\n",
    "    out = []\n",
    "    context = [0] * block_size # initialize with all ...\n",
    "    while True:\n",
    "      emb = C[torch.tensor([context])] # (1,block_size,d)\n",
    "      h = torch.tanh(emb.view(1, -1) @ W1 + b1)\n",
    "      logits = h @ W2 + b2\n",
    "      probs = F.softmax(logits, dim=1)\n",
    "      ix = torch.multinomial(probs, num_samples=1, generator=g).item()\n",
    "      context = context[1:] + [ix]\n",
    "      out.append(ix)\n",
    "      if ix == 0:\n",
    "        break\n",
    "\n",
    "    print(''.join(itos[i] for i in out))"
   ]
  },
  {
   "cell_type": "code",
   "execution_count": 84,
   "metadata": {
    "executionInfo": {
     "elapsed": 8,
     "status": "ok",
     "timestamp": 1705582358900,
     "user": {
      "displayName": "Harsh Vardhan Rana",
      "userId": "00416889182280809693"
     },
     "user_tz": -330
    },
    "id": "F3OVGOzfkO8m"
   },
   "outputs": [],
   "source": []
  }
 ],
 "metadata": {
  "colab": {
   "authorship_tag": "ABX9TyO59c4yczPR2TIYic+iPNkK",
   "mount_file_id": "1Bqzhgb4a-ZXWhr0K4zRsjua16Vv0gRA7",
   "provenance": []
  },
  "kernelspec": {
   "display_name": "Python 3 (ipykernel)",
   "language": "python",
   "name": "python3"
  },
  "language_info": {
   "codemirror_mode": {
    "name": "ipython",
    "version": 3
   },
   "file_extension": ".py",
   "mimetype": "text/x-python",
   "name": "python",
   "nbconvert_exporter": "python",
   "pygments_lexer": "ipython3",
   "version": "3.11.7"
  }
 },
 "nbformat": 4,
 "nbformat_minor": 4
}
